{
  "nbformat": 4,
  "nbformat_minor": 0,
  "metadata": {
    "kernelspec": {
      "display_name": "Python 3",
      "language": "python",
      "name": "python3"
    },
    "language_info": {
      "codemirror_mode": {
        "name": "ipython",
        "version": 3
      },
      "file_extension": ".py",
      "mimetype": "text/x-python",
      "name": "python",
      "nbconvert_exporter": "python",
      "pygments_lexer": "ipython3",
      "version": "3.6.6"
    },
    "colab": {
      "provenance": [],
      "collapsed_sections": [],
      "include_colab_link": true
    }
  },
  "cells": [
    {
      "cell_type": "markdown",
      "metadata": {
        "id": "view-in-github",
        "colab_type": "text"
      },
      "source": [
        "<a href=\"https://colab.research.google.com/github/prati25/Hotel-Booking-Analysis/blob/main/Copy_of_Hotel_Booking_Analysis_Capstone_Project.ipynb\" target=\"_parent\"><img src=\"https://colab.research.google.com/assets/colab-badge.svg\" alt=\"Open In Colab\"/></a>"
      ]
    },
    {
      "cell_type": "markdown",
      "metadata": {
        "id": "Y06xIdG26kRF"
      },
      "source": [
        "## <b> Have you ever wondered when the best time of year to book a hotel room is? Or the optimal length of stay in order to get the best daily rate? What if you wanted to predict whether or not a hotel was likely to receive a disproportionately high number of special requests? This hotel booking dataset can help you explore those questions!\n",
        "\n",
        "## <b>This data set contains booking information for a city hotel and a resort hotel, and includes information such as when the booking was made, length of stay, the number of adults, children, and/or babies, and the number of available parking spaces, among other things. All personally identifying information has been removed from the data. </b>\n",
        "\n",
        "## <b> Explore and analyze the data to discover important factors that govern the bookings. </b>"
      ]
    },
    {
      "cell_type": "markdown",
      "source": [
        "## **DATASET**\n",
        "\n",
        "The dataset contains information on bookings for two hotels in Portugal (a resort and a city hotel) scheduled to arrive in a period between July 1, 2016 and August 31, 2018.\n",
        "\n",
        "For both hotels, the same information was collected: 31 variables describing 40,060 observations for the resort and 79,330 observations for the city hotel. That is, the dataset contains information on 119,390 hotel reservations, including those that were canceled. This is real information, so all elements that could identify hotels or customers were removed.\n",
        "\n",
        "### Here there are some questions for analysis:\n",
        "\n",
        "1.What is the month with the most guest arrivals?\n",
        "\n",
        "2.How long do guests tend to stay at the hotel?\n",
        "\n",
        "3.How many reservations were made by repeated guests?\n",
        "\n",
        "4.What is the Average Daily Rate (ADR) throughout the year?\n",
        "\n",
        "5.How many reservations were cancelled out of total?\n",
        "\n",
        "6.What is the most frequent deposit type for cancelled reservations?\n",
        "\n",
        "7.Which countries do customers come from?\n",
        "\n",
        "8.What types of customers are most common in each hotel?\n",
        "\n",
        "9.What is their preferred meal plan?\n",
        "\n",
        "10.Which hotel is preferred by adults with children?\n",
        "\n",
        "11.What is the strongest market segment and distribution channel?"
      ],
      "metadata": {
        "id": "Ux42ERkF0uLE"
      }
    },
    {
      "cell_type": "markdown",
      "source": [
        "## **Suppressing warnings**"
      ],
      "metadata": {
        "id": "-JMBWphZ1bwX"
      }
    },
    {
      "cell_type": "code",
      "source": [
        "import warnings\n",
        "warnings.filterwarnings('ignore')             #suppressing warnings"
      ],
      "metadata": {
        "id": "GwLFrw8y1ojg"
      },
      "execution_count": null,
      "outputs": []
    },
    {
      "cell_type": "markdown",
      "source": [
        "## **Importing libraries**"
      ],
      "metadata": {
        "id": "oLkEoQxu11jE"
      }
    },
    {
      "cell_type": "code",
      "source": [
        "#importing libraries :\n",
        "#matplotlib inline is used for plotting/graphs will be displayed :\n",
        "import numpy as np\n",
        "import pandas as pd\n",
        "import matplotlib.pyplot as plt\n",
        "import seaborn as sns                         \n",
        "%matplotlib inline "
      ],
      "metadata": {
        "id": "7JcAKj3m1_Je"
      },
      "execution_count": null,
      "outputs": []
    },
    {
      "cell_type": "code",
      "source": [
        "from google.colab import drive\n",
        "drive.mount('/content/drive')"
      ],
      "metadata": {
        "colab": {
          "base_uri": "https://localhost:8080/"
        },
        "id": "Ff0gRrjQo_J_",
        "outputId": "9f805e8f-79dd-4272-d027-15d5a30eebab"
      },
      "execution_count": null,
      "outputs": [
        {
          "output_type": "stream",
          "name": "stdout",
          "text": [
            "Drive already mounted at /content/drive; to attempt to forcibly remount, call drive.mount(\"/content/drive\", force_remount=True).\n"
          ]
        }
      ]
    },
    {
      "cell_type": "markdown",
      "source": [
        "## **Reading and inspecting data**"
      ],
      "metadata": {
        "id": "mO7bdVzg5Y8d"
      }
    },
    {
      "cell_type": "markdown",
      "source": [
        "let's see Contents of Dataset :"
      ],
      "metadata": {
        "id": "3hvijlEAHsK3"
      }
    },
    {
      "cell_type": "code",
      "source": [
        "File_location=\"/content/drive/MyDrive/Capston Project/Hotel Booking Analysis/Hotel Bookings (1).csv\"\n",
        "pk = pd.read_csv(File_location)"
      ],
      "metadata": {
        "id": "ljQQvxbjOyYA"
      },
      "execution_count": null,
      "outputs": []
    },
    {
      "cell_type": "code",
      "source": [
        "pk.head()"
      ],
      "metadata": {
        "colab": {
          "base_uri": "https://localhost:8080/",
          "height": 386
        },
        "id": "ckUYXosqdkJO",
        "outputId": "63718241-db40-4032-9eae-7fc1186ad5b2"
      },
      "execution_count": null,
      "outputs": [
        {
          "output_type": "execute_result",
          "data": {
            "text/plain": [
              "          hotel  is_canceled  lead_time  arrival_date_year arrival_date_month  \\\n",
              "0  Resort Hotel            0        342               2015               July   \n",
              "1  Resort Hotel            0        737               2015               July   \n",
              "2  Resort Hotel            0          7               2015               July   \n",
              "3  Resort Hotel            0         13               2015               July   \n",
              "4  Resort Hotel            0         14               2015               July   \n",
              "\n",
              "   arrival_date_week_number  arrival_date_day_of_month  \\\n",
              "0                        27                          1   \n",
              "1                        27                          1   \n",
              "2                        27                          1   \n",
              "3                        27                          1   \n",
              "4                        27                          1   \n",
              "\n",
              "   stays_in_weekend_nights  stays_in_week_nights  adults  ...  deposit_type  \\\n",
              "0                        0                     0       2  ...    No Deposit   \n",
              "1                        0                     0       2  ...    No Deposit   \n",
              "2                        0                     1       1  ...    No Deposit   \n",
              "3                        0                     1       1  ...    No Deposit   \n",
              "4                        0                     2       2  ...    No Deposit   \n",
              "\n",
              "   agent company days_in_waiting_list customer_type   adr  \\\n",
              "0    NaN     NaN                    0     Transient   0.0   \n",
              "1    NaN     NaN                    0     Transient   0.0   \n",
              "2    NaN     NaN                    0     Transient  75.0   \n",
              "3  304.0     NaN                    0     Transient  75.0   \n",
              "4  240.0     NaN                    0     Transient  98.0   \n",
              "\n",
              "   required_car_parking_spaces  total_of_special_requests  reservation_status  \\\n",
              "0                            0                          0           Check-Out   \n",
              "1                            0                          0           Check-Out   \n",
              "2                            0                          0           Check-Out   \n",
              "3                            0                          0           Check-Out   \n",
              "4                            0                          1           Check-Out   \n",
              "\n",
              "  reservation_status_date  \n",
              "0              2015-07-01  \n",
              "1              2015-07-01  \n",
              "2              2015-07-02  \n",
              "3              2015-07-02  \n",
              "4              2015-07-03  \n",
              "\n",
              "[5 rows x 32 columns]"
            ],
            "text/html": [
              "\n",
              "  <div id=\"df-3509776d-acb2-4e4d-89ec-fa214d55514f\">\n",
              "    <div class=\"colab-df-container\">\n",
              "      <div>\n",
              "<style scoped>\n",
              "    .dataframe tbody tr th:only-of-type {\n",
              "        vertical-align: middle;\n",
              "    }\n",
              "\n",
              "    .dataframe tbody tr th {\n",
              "        vertical-align: top;\n",
              "    }\n",
              "\n",
              "    .dataframe thead th {\n",
              "        text-align: right;\n",
              "    }\n",
              "</style>\n",
              "<table border=\"1\" class=\"dataframe\">\n",
              "  <thead>\n",
              "    <tr style=\"text-align: right;\">\n",
              "      <th></th>\n",
              "      <th>hotel</th>\n",
              "      <th>is_canceled</th>\n",
              "      <th>lead_time</th>\n",
              "      <th>arrival_date_year</th>\n",
              "      <th>arrival_date_month</th>\n",
              "      <th>arrival_date_week_number</th>\n",
              "      <th>arrival_date_day_of_month</th>\n",
              "      <th>stays_in_weekend_nights</th>\n",
              "      <th>stays_in_week_nights</th>\n",
              "      <th>adults</th>\n",
              "      <th>...</th>\n",
              "      <th>deposit_type</th>\n",
              "      <th>agent</th>\n",
              "      <th>company</th>\n",
              "      <th>days_in_waiting_list</th>\n",
              "      <th>customer_type</th>\n",
              "      <th>adr</th>\n",
              "      <th>required_car_parking_spaces</th>\n",
              "      <th>total_of_special_requests</th>\n",
              "      <th>reservation_status</th>\n",
              "      <th>reservation_status_date</th>\n",
              "    </tr>\n",
              "  </thead>\n",
              "  <tbody>\n",
              "    <tr>\n",
              "      <th>0</th>\n",
              "      <td>Resort Hotel</td>\n",
              "      <td>0</td>\n",
              "      <td>342</td>\n",
              "      <td>2015</td>\n",
              "      <td>July</td>\n",
              "      <td>27</td>\n",
              "      <td>1</td>\n",
              "      <td>0</td>\n",
              "      <td>0</td>\n",
              "      <td>2</td>\n",
              "      <td>...</td>\n",
              "      <td>No Deposit</td>\n",
              "      <td>NaN</td>\n",
              "      <td>NaN</td>\n",
              "      <td>0</td>\n",
              "      <td>Transient</td>\n",
              "      <td>0.0</td>\n",
              "      <td>0</td>\n",
              "      <td>0</td>\n",
              "      <td>Check-Out</td>\n",
              "      <td>2015-07-01</td>\n",
              "    </tr>\n",
              "    <tr>\n",
              "      <th>1</th>\n",
              "      <td>Resort Hotel</td>\n",
              "      <td>0</td>\n",
              "      <td>737</td>\n",
              "      <td>2015</td>\n",
              "      <td>July</td>\n",
              "      <td>27</td>\n",
              "      <td>1</td>\n",
              "      <td>0</td>\n",
              "      <td>0</td>\n",
              "      <td>2</td>\n",
              "      <td>...</td>\n",
              "      <td>No Deposit</td>\n",
              "      <td>NaN</td>\n",
              "      <td>NaN</td>\n",
              "      <td>0</td>\n",
              "      <td>Transient</td>\n",
              "      <td>0.0</td>\n",
              "      <td>0</td>\n",
              "      <td>0</td>\n",
              "      <td>Check-Out</td>\n",
              "      <td>2015-07-01</td>\n",
              "    </tr>\n",
              "    <tr>\n",
              "      <th>2</th>\n",
              "      <td>Resort Hotel</td>\n",
              "      <td>0</td>\n",
              "      <td>7</td>\n",
              "      <td>2015</td>\n",
              "      <td>July</td>\n",
              "      <td>27</td>\n",
              "      <td>1</td>\n",
              "      <td>0</td>\n",
              "      <td>1</td>\n",
              "      <td>1</td>\n",
              "      <td>...</td>\n",
              "      <td>No Deposit</td>\n",
              "      <td>NaN</td>\n",
              "      <td>NaN</td>\n",
              "      <td>0</td>\n",
              "      <td>Transient</td>\n",
              "      <td>75.0</td>\n",
              "      <td>0</td>\n",
              "      <td>0</td>\n",
              "      <td>Check-Out</td>\n",
              "      <td>2015-07-02</td>\n",
              "    </tr>\n",
              "    <tr>\n",
              "      <th>3</th>\n",
              "      <td>Resort Hotel</td>\n",
              "      <td>0</td>\n",
              "      <td>13</td>\n",
              "      <td>2015</td>\n",
              "      <td>July</td>\n",
              "      <td>27</td>\n",
              "      <td>1</td>\n",
              "      <td>0</td>\n",
              "      <td>1</td>\n",
              "      <td>1</td>\n",
              "      <td>...</td>\n",
              "      <td>No Deposit</td>\n",
              "      <td>304.0</td>\n",
              "      <td>NaN</td>\n",
              "      <td>0</td>\n",
              "      <td>Transient</td>\n",
              "      <td>75.0</td>\n",
              "      <td>0</td>\n",
              "      <td>0</td>\n",
              "      <td>Check-Out</td>\n",
              "      <td>2015-07-02</td>\n",
              "    </tr>\n",
              "    <tr>\n",
              "      <th>4</th>\n",
              "      <td>Resort Hotel</td>\n",
              "      <td>0</td>\n",
              "      <td>14</td>\n",
              "      <td>2015</td>\n",
              "      <td>July</td>\n",
              "      <td>27</td>\n",
              "      <td>1</td>\n",
              "      <td>0</td>\n",
              "      <td>2</td>\n",
              "      <td>2</td>\n",
              "      <td>...</td>\n",
              "      <td>No Deposit</td>\n",
              "      <td>240.0</td>\n",
              "      <td>NaN</td>\n",
              "      <td>0</td>\n",
              "      <td>Transient</td>\n",
              "      <td>98.0</td>\n",
              "      <td>0</td>\n",
              "      <td>1</td>\n",
              "      <td>Check-Out</td>\n",
              "      <td>2015-07-03</td>\n",
              "    </tr>\n",
              "  </tbody>\n",
              "</table>\n",
              "<p>5 rows × 32 columns</p>\n",
              "</div>\n",
              "      <button class=\"colab-df-convert\" onclick=\"convertToInteractive('df-3509776d-acb2-4e4d-89ec-fa214d55514f')\"\n",
              "              title=\"Convert this dataframe to an interactive table.\"\n",
              "              style=\"display:none;\">\n",
              "        \n",
              "  <svg xmlns=\"http://www.w3.org/2000/svg\" height=\"24px\"viewBox=\"0 0 24 24\"\n",
              "       width=\"24px\">\n",
              "    <path d=\"M0 0h24v24H0V0z\" fill=\"none\"/>\n",
              "    <path d=\"M18.56 5.44l.94 2.06.94-2.06 2.06-.94-2.06-.94-.94-2.06-.94 2.06-2.06.94zm-11 1L8.5 8.5l.94-2.06 2.06-.94-2.06-.94L8.5 2.5l-.94 2.06-2.06.94zm10 10l.94 2.06.94-2.06 2.06-.94-2.06-.94-.94-2.06-.94 2.06-2.06.94z\"/><path d=\"M17.41 7.96l-1.37-1.37c-.4-.4-.92-.59-1.43-.59-.52 0-1.04.2-1.43.59L10.3 9.45l-7.72 7.72c-.78.78-.78 2.05 0 2.83L4 21.41c.39.39.9.59 1.41.59.51 0 1.02-.2 1.41-.59l7.78-7.78 2.81-2.81c.8-.78.8-2.07 0-2.86zM5.41 20L4 18.59l7.72-7.72 1.47 1.35L5.41 20z\"/>\n",
              "  </svg>\n",
              "      </button>\n",
              "      \n",
              "  <style>\n",
              "    .colab-df-container {\n",
              "      display:flex;\n",
              "      flex-wrap:wrap;\n",
              "      gap: 12px;\n",
              "    }\n",
              "\n",
              "    .colab-df-convert {\n",
              "      background-color: #E8F0FE;\n",
              "      border: none;\n",
              "      border-radius: 50%;\n",
              "      cursor: pointer;\n",
              "      display: none;\n",
              "      fill: #1967D2;\n",
              "      height: 32px;\n",
              "      padding: 0 0 0 0;\n",
              "      width: 32px;\n",
              "    }\n",
              "\n",
              "    .colab-df-convert:hover {\n",
              "      background-color: #E2EBFA;\n",
              "      box-shadow: 0px 1px 2px rgba(60, 64, 67, 0.3), 0px 1px 3px 1px rgba(60, 64, 67, 0.15);\n",
              "      fill: #174EA6;\n",
              "    }\n",
              "\n",
              "    [theme=dark] .colab-df-convert {\n",
              "      background-color: #3B4455;\n",
              "      fill: #D2E3FC;\n",
              "    }\n",
              "\n",
              "    [theme=dark] .colab-df-convert:hover {\n",
              "      background-color: #434B5C;\n",
              "      box-shadow: 0px 1px 3px 1px rgba(0, 0, 0, 0.15);\n",
              "      filter: drop-shadow(0px 1px 2px rgba(0, 0, 0, 0.3));\n",
              "      fill: #FFFFFF;\n",
              "    }\n",
              "  </style>\n",
              "\n",
              "      <script>\n",
              "        const buttonEl =\n",
              "          document.querySelector('#df-3509776d-acb2-4e4d-89ec-fa214d55514f button.colab-df-convert');\n",
              "        buttonEl.style.display =\n",
              "          google.colab.kernel.accessAllowed ? 'block' : 'none';\n",
              "\n",
              "        async function convertToInteractive(key) {\n",
              "          const element = document.querySelector('#df-3509776d-acb2-4e4d-89ec-fa214d55514f');\n",
              "          const dataTable =\n",
              "            await google.colab.kernel.invokeFunction('convertToInteractive',\n",
              "                                                     [key], {});\n",
              "          if (!dataTable) return;\n",
              "\n",
              "          const docLinkHtml = 'Like what you see? Visit the ' +\n",
              "            '<a target=\"_blank\" href=https://colab.research.google.com/notebooks/data_table.ipynb>data table notebook</a>'\n",
              "            + ' to learn more about interactive tables.';\n",
              "          element.innerHTML = '';\n",
              "          dataTable['output_type'] = 'display_data';\n",
              "          await google.colab.output.renderOutput(dataTable, element);\n",
              "          const docLink = document.createElement('div');\n",
              "          docLink.innerHTML = docLinkHtml;\n",
              "          element.appendChild(docLink);\n",
              "        }\n",
              "      </script>\n",
              "    </div>\n",
              "  </div>\n",
              "  "
            ]
          },
          "metadata": {},
          "execution_count": 12
        }
      ]
    },
    {
      "cell_type": "code",
      "source": [
        "print(pk.shape)\n"
      ],
      "metadata": {
        "colab": {
          "base_uri": "https://localhost:8080/"
        },
        "id": "LMMq8zrSdrKj",
        "outputId": "1f2071ad-9bdf-45fd-9dd7-fcf51fe12697"
      },
      "execution_count": 21,
      "outputs": [
        {
          "output_type": "stream",
          "name": "stdout",
          "text": [
            "(119390, 32)\n"
          ]
        }
      ]
    },
    {
      "cell_type": "markdown",
      "source": [
        "There are 119.390 observations and 32 columns in thr dataset\n",
        "\n",
        "Check data type :"
      ],
      "metadata": {
        "id": "CUSyEjSlkfv0"
      }
    },
    {
      "cell_type": "code",
      "source": [
        "pk.info()"
      ],
      "metadata": {
        "colab": {
          "base_uri": "https://localhost:8080/"
        },
        "id": "kqZpeLuOdwM-",
        "outputId": "f8920d3a-3b1c-4904-e52b-9642667b33e2"
      },
      "execution_count": null,
      "outputs": [
        {
          "output_type": "stream",
          "name": "stdout",
          "text": [
            "<class 'pandas.core.frame.DataFrame'>\n",
            "RangeIndex: 119390 entries, 0 to 119389\n",
            "Data columns (total 32 columns):\n",
            " #   Column                          Non-Null Count   Dtype  \n",
            "---  ------                          --------------   -----  \n",
            " 0   hotel                           119390 non-null  object \n",
            " 1   is_canceled                     119390 non-null  int64  \n",
            " 2   lead_time                       119390 non-null  int64  \n",
            " 3   arrival_date_year               119390 non-null  int64  \n",
            " 4   arrival_date_month              119390 non-null  object \n",
            " 5   arrival_date_week_number        119390 non-null  int64  \n",
            " 6   arrival_date_day_of_month       119390 non-null  int64  \n",
            " 7   stays_in_weekend_nights         119390 non-null  int64  \n",
            " 8   stays_in_week_nights            119390 non-null  int64  \n",
            " 9   adults                          119390 non-null  int64  \n",
            " 10  children                        119386 non-null  float64\n",
            " 11  babies                          119390 non-null  int64  \n",
            " 12  meal                            119390 non-null  object \n",
            " 13  country                         118902 non-null  object \n",
            " 14  market_segment                  119390 non-null  object \n",
            " 15  distribution_channel            119390 non-null  object \n",
            " 16  is_repeated_guest               119390 non-null  int64  \n",
            " 17  previous_cancellations          119390 non-null  int64  \n",
            " 18  previous_bookings_not_canceled  119390 non-null  int64  \n",
            " 19  reserved_room_type              119390 non-null  object \n",
            " 20  assigned_room_type              119390 non-null  object \n",
            " 21  booking_changes                 119390 non-null  int64  \n",
            " 22  deposit_type                    119390 non-null  object \n",
            " 23  agent                           103050 non-null  float64\n",
            " 24  company                         6797 non-null    float64\n",
            " 25  days_in_waiting_list            119390 non-null  int64  \n",
            " 26  customer_type                   119390 non-null  object \n",
            " 27  adr                             119390 non-null  float64\n",
            " 28  required_car_parking_spaces     119390 non-null  int64  \n",
            " 29  total_of_special_requests       119390 non-null  int64  \n",
            " 30  reservation_status              119390 non-null  object \n",
            " 31  reservation_status_date         119390 non-null  object \n",
            "dtypes: float64(4), int64(16), object(12)\n",
            "memory usage: 29.1+ MB\n"
          ]
        }
      ]
    },
    {
      "cell_type": "markdown",
      "source": [
        "As it can be seen, 'reservation_status_date' has an object data type, when it should has a date data type.\n",
        "\n",
        "Also, there are missing values in 'children', 'country', 'agent' and 'company' columns. This will be explored in the next section."
      ],
      "metadata": {
        "id": "WMe-iCRhman6"
      }
    },
    {
      "cell_type": "markdown",
      "source": [
        "## **Data cleaning**"
      ],
      "metadata": {
        "id": "wy0MP0aDnLEQ"
      }
    },
    {
      "cell_type": "markdown",
      "source": [
        "## Missing values"
      ],
      "metadata": {
        "id": "BvfBelYHnYwZ"
      }
    },
    {
      "cell_type": "markdown",
      "source": [
        "Let's see how many values are missing there :"
      ],
      "metadata": {
        "id": "C3Uqb_kDnvxV"
      }
    },
    {
      "cell_type": "code",
      "source": [
        "# Number of missing values according to column :\n",
        "\n",
        "pk.isnull().sum().sort_values(ascending = False)"
      ],
      "metadata": {
        "colab": {
          "base_uri": "https://localhost:8080/"
        },
        "id": "WEQOxu_un-dA",
        "outputId": "2c9e7fd8-4ad6-4c5f-daa3-cb2403570ea8"
      },
      "execution_count": null,
      "outputs": [
        {
          "output_type": "execute_result",
          "data": {
            "text/plain": [
              "company                           112593\n",
              "agent                              16340\n",
              "country                              488\n",
              "children                               4\n",
              "reserved_room_type                     0\n",
              "assigned_room_type                     0\n",
              "booking_changes                        0\n",
              "deposit_type                           0\n",
              "hotel                                  0\n",
              "previous_cancellations                 0\n",
              "days_in_waiting_list                   0\n",
              "customer_type                          0\n",
              "adr                                    0\n",
              "required_car_parking_spaces            0\n",
              "total_of_special_requests              0\n",
              "reservation_status                     0\n",
              "previous_bookings_not_canceled         0\n",
              "is_repeated_guest                      0\n",
              "is_canceled                            0\n",
              "distribution_channel                   0\n",
              "market_segment                         0\n",
              "meal                                   0\n",
              "babies                                 0\n",
              "adults                                 0\n",
              "stays_in_week_nights                   0\n",
              "stays_in_weekend_nights                0\n",
              "arrival_date_day_of_month              0\n",
              "arrival_date_week_number               0\n",
              "arrival_date_month                     0\n",
              "arrival_date_year                      0\n",
              "lead_time                              0\n",
              "reservation_status_date                0\n",
              "dtype: int64"
            ]
          },
          "metadata": {},
          "execution_count": 16
        }
      ]
    },
    {
      "cell_type": "code",
      "source": [
        "# percentage of missing values according to column :\n",
        "\n",
        "round(pk.isnull().sum().sort_values(ascending = False)* 100) / len(d,f),2)"
      ],
      "metadata": {
        "colab": {
          "base_uri": "https://localhost:8080/",
          "height": 130
        },
        "id": "rfxOzWaGom2y",
        "outputId": "31581c18-1232-4ba4-86e2-8100a3441c71"
      },
      "execution_count": null,
      "outputs": [
        {
          "output_type": "error",
          "ename": "SyntaxError",
          "evalue": "ignored",
          "traceback": [
            "\u001b[0;36m  File \u001b[0;32m\"<ipython-input-19-f0cd6bb7fc98>\"\u001b[0;36m, line \u001b[0;32m3\u001b[0m\n\u001b[0;31m    round(pk.isnull().sum().sort_values(ascending = False)* 100) / len(d,f),2)\u001b[0m\n\u001b[0m                                                                             ^\u001b[0m\n\u001b[0;31mSyntaxError\u001b[0m\u001b[0;31m:\u001b[0m invalid syntax\n"
          ]
        }
      ]
    },
    {
      "cell_type": "markdown",
      "source": [
        "**'company'** and **'agent'** columns have a very high amount of missing values (94,31% and 13,69% respectively). one possible option could be to drop down that columns. However, the original article(that can be found here) \n",
        "\n",
        "States the following :"
      ],
      "metadata": {
        "id": "Bu-Dn4OYpgUl"
      }
    },
    {
      "cell_type": "markdown",
      "source": [
        "\n",
        "\n",
        "---\n",
        "In some Categorical variables like agent or company,\"NULL\" is presented as one of the categories. This should not be considered a missing value, but rather as \"not applicable\".\n",
        "For example: if a booking \"Agent\" is defined as \"NULL\" it means that the booking did not came from a travel agent. \n",
        "\n",
        "---\n"
      ],
      "metadata": {
        "id": "ftyc5HQFqug_"
      }
    },
    {
      "cell_type": "markdown",
      "source": [
        "Then, I'm going to replace null values in those columns with 0 (as they have float64 data types, since the personal information was removed).\n",
        "\n",
        "On the other hand, the column **'country'** has 0.41% missing values (488 rows affected). In its case, being a categorical variable, I have chosen the mode to replace the null values.\n",
        "\n",
        "The column **'children'** also has some missing values, but they do not even represent 0.01% of the dataset. Therefore, I have chosen to delete the affected rows (4 rows)."
      ],
      "metadata": {
        "id": "zjIZiuBGrJwi"
      }
    },
    {
      "cell_type": "code",
      "source": [
        "#Replacing NULL values in company and agent columns with 0 :\n",
        "\n",
        "values = {'company':0, 'agent':0}\n",
        "pk.fillna(value = values, inplace = True)\n",
        "\n",
        "\n",
        "#Replacing NULL values in country column with most frecuent value :\n",
        "\n",
        "pk['country'].fillna(value = pk['country'].mode()[0],inplace = true)\n",
        "\n",
        "\n",
        "#Removing row affected by NULL values in children column :\n",
        "\n",
        "pk.dropna(subset = ['children'], inplace = True)\n"
      ],
      "metadata": {
        "colab": {
          "base_uri": "https://localhost:8080/",
          "height": 235
        },
        "id": "QAeb65MkuqlH",
        "outputId": "17cd3ba4-e7a3-4a9f-b6db-4c75e6cf7548"
      },
      "execution_count": null,
      "outputs": [
        {
          "output_type": "error",
          "ename": "NameError",
          "evalue": "ignored",
          "traceback": [
            "\u001b[0;31m---------------------------------------------------------------------------\u001b[0m",
            "\u001b[0;31mNameError\u001b[0m                                 Traceback (most recent call last)",
            "\u001b[0;32m<ipython-input-20-b32bfe6c799f>\u001b[0m in \u001b[0;36m<module>\u001b[0;34m\u001b[0m\n\u001b[1;32m      7\u001b[0m \u001b[0;31m#Replacing NULL values in country column with most frecuent value :\u001b[0m\u001b[0;34m\u001b[0m\u001b[0;34m\u001b[0m\u001b[0;34m\u001b[0m\u001b[0m\n\u001b[1;32m      8\u001b[0m \u001b[0;34m\u001b[0m\u001b[0m\n\u001b[0;32m----> 9\u001b[0;31m \u001b[0mpk\u001b[0m\u001b[0;34m[\u001b[0m\u001b[0;34m'country'\u001b[0m\u001b[0;34m]\u001b[0m\u001b[0;34m.\u001b[0m\u001b[0mfillna\u001b[0m\u001b[0;34m(\u001b[0m\u001b[0mvalue\u001b[0m \u001b[0;34m=\u001b[0m \u001b[0mpk\u001b[0m\u001b[0;34m[\u001b[0m\u001b[0;34m'country'\u001b[0m\u001b[0;34m]\u001b[0m\u001b[0;34m.\u001b[0m\u001b[0mmode\u001b[0m\u001b[0;34m(\u001b[0m\u001b[0;34m)\u001b[0m\u001b[0;34m[\u001b[0m\u001b[0;36m0\u001b[0m\u001b[0;34m]\u001b[0m\u001b[0;34m,\u001b[0m\u001b[0minplace\u001b[0m \u001b[0;34m=\u001b[0m \u001b[0mtrue\u001b[0m\u001b[0;34m)\u001b[0m\u001b[0;34m\u001b[0m\u001b[0;34m\u001b[0m\u001b[0m\n\u001b[0m\u001b[1;32m     10\u001b[0m \u001b[0;34m\u001b[0m\u001b[0m\n\u001b[1;32m     11\u001b[0m \u001b[0;34m\u001b[0m\u001b[0m\n",
            "\u001b[0;31mNameError\u001b[0m: name 'true' is not defined"
          ]
        }
      ]
    },
    {
      "cell_type": "code",
      "source": [
        "#Rechecking for NULL values in the data set :\n",
        "\n",
        "pk.isnull().sum()"
      ],
      "metadata": {
        "id": "1B2QqKHDyDeA"
      },
      "execution_count": null,
      "outputs": []
    },
    {
      "cell_type": "markdown",
      "source": [
        "Now, there is no missing values in the dataset."
      ],
      "metadata": {
        "id": "vc0lPsYUybW4"
      }
    },
    {
      "cell_type": "markdown",
      "source": [
        "## **Inconsistent Data**"
      ],
      "metadata": {
        "id": "qxd2RjDGyj15"
      }
    },
    {
      "cell_type": "markdown",
      "source": [
        "In this part I'll look for inconsistent data in the dataset, that is, I'll check that the unique values of the categorical volumns are correct."
      ],
      "metadata": {
        "id": "kqBiI-bUyvl_"
      }
    },
    {
      "cell_type": "code",
      "source": [
        "#Categorical columns:\n",
        "\n",
        "categ_columns = ['hotel','is_canceled','meal','country','market_segment','distribution_channel','is_repeated_guest','reserved_room_type','assigned_room_type','deposit_type','customer_type','reservation_status']\n",
        "\n",
        "\n",
        "#Unique values in each categorical column :\n",
        "\n",
        "print(f\"UNIQUE VALUES BY CATEGORICAL COLUMNS\\n\".upper())\n",
        "for categ_columns in categ_columns:\n",
        "  unique_values = pk[categ_columns].unique()\n",
        "  print(f\"\\n{categ_columns}: \\n{unique_values}\\n\")\n",
        "  print('-' * 70)"
      ],
      "metadata": {
        "id": "fGYga7PLzejE"
      },
      "execution_count": null,
      "outputs": []
    },
    {
      "cell_type": "markdown",
      "source": [
        "In the column **'meal'**  there are five possible results:['BB' 'FB' 'HB' 'SC' 'Undifined']\n",
        "\n",
        "The category **'undifined'** actually corresponds to **'sc'** (Self catering i.e. meal is not included),as definrd in the original article. Therefore, I'll replace it's value with **'sc'**.\n"
      ],
      "metadata": {
        "id": "_ipHNsKh35rR"
      }
    },
    {
      "cell_type": "code",
      "source": [
        "#Replacing 'Undifined' meal with 'SC' ;\n",
        "\n",
        "pk['meal'].replace(to_replace = 'undifined', value = 'SC', inplace = True)"
      ],
      "metadata": {
        "id": "NJBpfv1o87ou"
      },
      "execution_count": null,
      "outputs": []
    },
    {
      "cell_type": "code",
      "source": [
        "#Rechecking unique values in meal column :\n",
        "\n",
        "pk['meal'].unique()"
      ],
      "metadata": {
        "id": "rZf5Q7Oh-lnl"
      },
      "execution_count": null,
      "outputs": []
    },
    {
      "cell_type": "markdown",
      "source": [
        "There is no more inconsistent data in Dataset."
      ],
      "metadata": {
        "id": "GRhxHcAT_AoK"
      }
    },
    {
      "cell_type": "markdown",
      "source": [
        "## **Invalid Data**"
      ],
      "metadata": {
        "id": "xQeiOFqR_SfS"
      }
    },
    {
      "cell_type": "markdown",
      "source": [
        "Now, Verify there are any non-logical values in the dataset :"
      ],
      "metadata": {
        "id": "c-nmrtet_YUx"
      }
    },
    {
      "cell_type": "code",
      "source": [
        "pk.describe()"
      ],
      "metadata": {
        "id": "Fpef8AwnAAR9"
      },
      "execution_count": null,
      "outputs": []
    },
    {
      "cell_type": "markdown",
      "source": [
        "At first glance, it seems that there are outliers in the dataset. For example, we can see that the column 'previous_cancellations' has a maximum value of 26 cancellations, which would imply that some customer made 26 cancellations, which is unlikely.\n",
        "\n",
        "On the other hand, the column 'adults' has a maximum of 55 and a minimum of 0 people. The minimum is especially interesting because it would assume that there are hotel reservations for 0 adults, which is not possible since there must be a minimum of 1 adult per reservation (obviously children cannot book hotel rooms). Therefore, I will eliminate rows where the number of adults equals 0."
      ],
      "metadata": {
        "id": "TgBQPzh1AEf6"
      }
    },
    {
      "cell_type": "code",
      "source": [
        "#Dropping rows with 0 adults :\n",
        "\n",
        "pk.drop(pk[pk['adults']== 0].index,inplace = True)"
      ],
      "metadata": {
        "id": "KFP_b1zMBEF5"
      },
      "execution_count": null,
      "outputs": []
    },
    {
      "cell_type": "code",
      "source": [
        "#Verification of dropping rows with 0 adults :\n",
        "\n",
        "len(pk[pk['adults']==0])"
      ],
      "metadata": {
        "id": "Io23zcpYBbsk"
      },
      "execution_count": null,
      "outputs": []
    },
    {
      "cell_type": "markdown",
      "source": [
        "Rows where 'adults' was equal to 0 have been eliminated. I'll now check the outliers."
      ],
      "metadata": {
        "id": "IUod1iKQBw_7"
      }
    },
    {
      "cell_type": "markdown",
      "source": [
        "## **Outliers**"
      ],
      "metadata": {
        "id": "6auCXG4cEBTk"
      }
    },
    {
      "cell_type": "markdown",
      "source": [
        "Outliers are extremly large or small values relative to the other points of dataset. I'll use box plots and histograms to visualize the distribution of the data and detect outliers."
      ],
      "metadata": {
        "id": "SXYwr8h-EG3x"
      }
    },
    {
      "cell_type": "code",
      "source": [
        "#According to columns from pk.describe() :\n",
        "\n",
        "items = ['lead_time','stays_in_weekend_nights','stays_in_week_nights','adults','children','babies','previous_cancellations','previous_bookings_not_canceled','booking_changes','adr','days_in_waiting_list']\n",
        "\n",
        "\n",
        "#Creating a boxplot and a histogram for outlier detection :\n",
        "\n",
        "a = 1\n",
        "sns.set_style('darkgrid')\n",
        "sns.set(font_scale = 1.2)\n",
        "plt.figure(figsize = (16,28))\n",
        "\n",
        "for item in items:\n",
        "  plt.subplot(15,2,a)\n",
        "  sns.boxplat(pk[item],palette = 'autumn').set(xlabel = None)\n",
        "  plt.title(f'{item} boxplot')\n",
        "  a = a + 1\n",
        "\n",
        "  plt.subplot(15,2,a)\n",
        "  plt.hist(pk[item],color = '#f7b267')\n",
        "  plt.title(f'{item} histogram')\n",
        "  a = a + 1\n",
        "  plt.tight_layout()"
      ],
      "metadata": {
        "id": "JAfHcRI8EvrQ"
      },
      "execution_count": null,
      "outputs": []
    },
    {
      "cell_type": "markdown",
      "source": [
        "There are outliers in the dataset.What is especially relevant is their quantity and the extreme values that some of them have.\n",
        "\n",
        "For example, in the adr column we can see an outlier with an approximate value of 5400, far away from the rest of the data points. In this case we could consider that it is an error when entering data in the database.\n",
        "\n",
        "Nevertheless, in other columns there are outliers with values quite similar to each other. This has made me think that the problem may lie in the fact that the dataset contains data from two different hotels. Normally, city hotels are cheaper and can host more diverse types of customers (businessmen attending congresses, airline workers,...) given their centric location. On the contrary, a resort is usually a more expensive accommodation than a hotel, as it offers many more features, including larger rooms or even villas (which could explain why there are bookings with a large number of adults).\n",
        "\n",
        "The above is conjecture, as it is not possible to know the real identity of the hotels and therefore understand their business model in depth.\n",
        "\n",
        "However, before dealing with the outliers I will create a visualization that allows me to visualize the differences in the distribution of the data for each hotel."
      ],
      "metadata": {
        "id": "P89jWM5pMLBu"
      }
    },
    {
      "cell_type": "code",
      "source": [
        "#Creating a stripplot to visualize differences in data distribution between hotels :\n",
        "\n",
        "items = ['lead_time','stays_in_weekend_nights','stays_in_week_nights','adults','children','babies','previous_cancellations','previous_bookings_not_canceled','booking_changes','adr','days_in_waiting_list']\n",
        "a = 1 \n",
        "\n",
        "sns.set_style('darkgrid')\n",
        "sns.set(font_scale = 1.2)\n",
        "plt.figure(figsize = (14, 18))\n",
        "\n",
        "for item in items:\n",
        "  plt.subplot(4,3,n)\n",
        "  sns.stripplot(x = df['hotel'],y = pk[item], palette = 'summer').set(xlabel= None, ylabel = None)\n",
        "  plt.title(f'{item} strip plot')\n",
        "  a = a + 1\n",
        "  plt.tight_layout()"
      ],
      "metadata": {
        "id": "ebZRFa-AMzxO"
      },
      "execution_count": null,
      "outputs": []
    },
    {
      "cell_type": "markdown",
      "source": [
        "In the lead_time column the data start to become more dispersed starting at the 400 value, approximately.\n",
        "\n",
        "The stays_in_weekend_nights and stays_in_week_nights columns show higher outliers for the resort than for the city hotel, although both hotels start to show more dispersed data at 6 and 10 days, for each column.\n",
        "\n",
        "In the case of the number of adults per reservation, it is clear that the outliers are only for the resort, as the distribution for the city hotel is not very dispersed. Therefore, it could be true that the resort we are studying has villas or offers services to large groups of guests, which would explain why there are reservations for a large number of adults. However, we still do not know what type of rooms the hotel has (as they are classified with letters to anonymize the data) so we cannot reach a conclusion on this basis. The only thing we can state is that the data are concentrated, for both hotels, between values 1 and 4, being unusual any reservation that exceeds this number.\n",
        "\n",
        "In the children and babies columns we can see three data points with very high values, enough to think that it could be an error when entering the booking data.\n",
        "\n",
        "The booking_changes variable has a similar distribution for both hotels, seeing that it is extremely unusual for a booking to make more than 5 changes.\n",
        "\n",
        "As I said before, the adr (Average Daily Rate) variable has an outlier with a particularly high value for the city hotel. Since this could be an error, it would be better to remove it.\n",
        "\n",
        "The days_in_waiting_list column refers to the number of days that elapsed from the time the reservation was made until it was confirmed to the client. According to the strip plot, the data is very sparse, being unusual for a reservation to have a waiting period of more than 1 day, practically.\n",
        "\n",
        "Finally, in the previous_cancellations and previous_bookings_not_canceled columns we can see the number of reservations, previous to the current one, that were or were not canceled by the client. According to the graph, we can see that these variables reach very high values. For example, in the resort, there are records in which the customer made more than 20 cancellations prior to the current booking.\n",
        "\n",
        "At first it seems an illogical value. Exploring the dataset, we can find that most of these reservations were made by companies. Each time the same company rebooks, one of the two variables increases (depending, of course, on whether the previous booking was cancelled or not). Therefore, the high value of these variables could be explained by the presence of companies that regularly use these hotels to accommodate their employees.\n",
        "\n",
        "However, it is also observed that there are bookings made by individuals where these variables reach high values. We can see this, for example, if we calculate the percentage of bookings made by companies and individuals, where the previous_bookings_not_canceled column has a value greater than 10 for the Resort."
      ],
      "metadata": {
        "id": "JWbvPsdCPNyD"
      }
    },
    {
      "cell_type": "code",
      "source": [
        "#Number of bookings that have more than 10 previous bookings not canceled for resort :\n",
        "\n",
        "higt_pre_book = len(pk[(pk['previous_bookings_not_canceled'] > 10) & (pk['hotel'] == 'Resort Hotel')])\n",
        "\n",
        "\n",
        "#Number of Bookings made by companies that had more than 10 previous bookings not canceled for resort :\n",
        "\n",
        "high_comp_pre_book = len(pk[(pk['previous_bookings_not_canceled'] > 10) & (pk['company'] > 0) & (pk['hotel'] == 'Resort Hotel')])\n",
        "\n",
        "\n",
        "#Number of bookings made by private individuals that had more than 10 previous bookings not canceled for resort :\n",
        "\n",
        "high_indi_pre_book = len(pk[(pk['previous_bookings_not_canceled'] > 10) & (pk['company'] == 0) & (pk['hotel'] == 'Resort Hotel')])\n",
        "\n",
        "\n",
        "#Percentage of companies and individuals that had more than 10 previous cancellations for the resort :\n",
        "\n",
        "high_percent_pre_book = round((high_comp_pre_book / high_pre_book) * 100 , 2)\n",
        "high_indi_pre_book_percent = round((high_indi_pre_book / high_pre_book) * 100,2)\n",
        "\n",
        "print(f\"\\nBookings with high values in the previous_bookings_not_canceled column for the Resort Hotel :\\n\")\n",
        "print(f\"\\t{high_percent_pre_book} % were made by companies.\")\n",
        "print(f\"\\n\\t{high_indi_pre_book_percent} % were made by private individuals.\")\n"
      ],
      "metadata": {
        "id": "Bz8aN6mEPmnR"
      },
      "execution_count": null,
      "outputs": []
    },
    {
      "cell_type": "markdown",
      "source": [
        "Bookings with high values in the previous_bookings_not_canceled column for the Resort Hotel:\n",
        "\n",
        "\t70.89 % were made by companies.\n",
        "\n",
        "\t29.11 % were made by private individuals.\n",
        "Hence, it would be incorrect to assume that all the outliers in these columns are due to the fact that they are bookings made by companies that use the services of these hotels on a regular basis. Consequently, I have decided that it is best to convert these variables into categorical variables, where 0 means that the client did not cancel or enjoy a reservation at the hotel prior to the current reservation and 1 means that it did occur, at least once.\n",
        "\n",
        "Having analyzed all the columns of the graph, I will now deal with the outliers."
      ],
      "metadata": {
        "id": "d66312yhXesE"
      }
    },
    {
      "cell_type": "code",
      "source": [
        "#Using loc[] to set new values for outliers :\n",
        "\n",
        "pk.loc[pk['lead_time'] > 380, ['lead_time'] = 380\n",
        "pk.loc[pk['stays_in_weekend_nights'] > 6, ['stays_in_weekend_nights'] = 6\n",
        "pk.loc[pk['stays_in_week_nights'] > 10, ['stays_in_week_nights'] = 10\n",
        "pk.loc[pk['adults'] > 4, ['adults'] = 4\n",
        "pk.loc[pk['children'] > 8, ['lead_time'] = 0\n",
        "pk.loc[pk['babies'] > 8, ['babies'] = 0\n",
        "pk.loc[pk['booking_changes'] > 5, ['booking_changes'] = 5\n",
        "pk.loc[pk['days_in_waiting_list'] > 0, ['days_in_waiting_list'] = 1\n",
        "pk.loc[pk['previous_cancellations'] > 0, ['previous_cancellations'] = 1\n",
        "pk.loc[pk['previous_bookings_not_canceled'] > 0, ['previous_bookings_not_canceled']] = 1"
      ],
      "metadata": {
        "id": "FmNA2ce9ZMan"
      },
      "execution_count": null,
      "outputs": []
    },
    {
      "cell_type": "code",
      "source": [
        "#Dropping row with extreme outlier in adr column :\n",
        "\n",
        " pk.drop(pk[pk['ade'] == 5400].index,inplace = True)"
      ],
      "metadata": {
        "id": "PhD_H2rabd_P"
      },
      "execution_count": null,
      "outputs": []
    },
    {
      "cell_type": "markdown",
      "source": [
        "Outliers will not have completely disappeared, but they will no longer have such an impact on the results of the analysis."
      ],
      "metadata": {
        "id": "M3UEmIZ9cEMV"
      }
    },
    {
      "cell_type": "markdown",
      "source": [
        "## **Duplicated Data**"
      ],
      "metadata": {
        "id": "kvCdsnOjcd0s"
      }
    },
    {
      "cell_type": "markdown",
      "source": [
        "I'll now check for duplicate rows and,if so, delete them :"
      ],
      "metadata": {
        "id": "rwSNqn9Wcj71"
      }
    },
    {
      "cell_type": "code",
      "source": [
        "#Counting duplicate data in dataframe :\n",
        "\n",
        " pk.duplicated().sum()\n"
      ],
      "metadata": {
        "id": "RhUFhehscvJ_"
      },
      "execution_count": null,
      "outputs": []
    },
    {
      "cell_type": "markdown",
      "source": [
        "There are 32,037 duplicate rows in the dataset."
      ],
      "metadata": {
        "id": "kZkfLijUdBIB"
      }
    },
    {
      "cell_type": "code",
      "source": [
        "#Dropping Duplicate rows :\n",
        "\n",
        "pk.drop_duplicates(inplace = True)"
      ],
      "metadata": {
        "id": "lvdrDylcdIhw"
      },
      "execution_count": null,
      "outputs": []
    },
    {
      "cell_type": "markdown",
      "source": [
        "## **Data Preparation**"
      ],
      "metadata": {
        "id": "9UiYuowoeLrd"
      }
    },
    {
      "cell_type": "code",
      "source": [
        "#Converting Datatypes to string :\n",
        "\n",
        "pk['arrival_data_year'] = df['arrival_data_type'].astype('str')\n",
        "pk['arrival_data_month'] = df['arrival_data_month'].astype('str')\n",
        "pk['arrival_data_day_of_month'] = df['arrival_data_day_of_month'].astype('str')\n",
        "pk['is_repeated_guest'] = df['is_repeated_guest'].astype('str')\n",
        "pk['is_canceled'] = df['is_canceled'].astype('str')\n",
        "pk['previous_cancellations'] = df['previous_cancellations'].astype('str')\n",
        "pk['previous_bookings_not_canceled'] = df['previous_bookings_not_canceled'].astype('str')"
      ],
      "metadata": {
        "id": "wjVEGG-FgKNO"
      },
      "execution_count": null,
      "outputs": []
    },
    {
      "cell_type": "code",
      "source": [
        "#Creating arrival_date column and changing its datatype to datetime :\n",
        "\n",
        "pk['arrival_date'] = pk['arrival_date_day_of_month'] + '-' + pk['arrival_date_month'] + '-' + pk['arrival_date_year']\n",
        "pk['arrival_date'] = pd.to_datetime(pk['arrival_date'], errors = 'coerce')"
      ],
      "metadata": {
        "id": "TTzETmt4h0Uh"
      },
      "execution_count": null,
      "outputs": []
    },
    {
      "cell_type": "code",
      "source": [
        "#Combining cgildren and babies toge there as kids :\n",
        "\n",
        "pk['kids'] = pk['children'] + pk['babies']"
      ],
      "metadata": {
        "id": "5YPmrqsajBdI"
      },
      "execution_count": null,
      "outputs": []
    },
    {
      "cell_type": "code",
      "source": [
        "#Creating total_members column :\n",
        "\n",
        "pk['total_members'] = pk['kids'] + pk['adults']"
      ],
      "metadata": {
        "id": "KMVe0Wf4jYDZ"
      },
      "execution_count": null,
      "outputs": []
    },
    {
      "cell_type": "code",
      "source": [
        "#Total nights per booking :\n",
        "\n",
        "pk['total_nights'] = pk['stays_in_week_nights'] + pk['']"
      ],
      "metadata": {
        "id": "ta4qmtoBkJCr"
      },
      "execution_count": null,
      "outputs": []
    }
  ]
}