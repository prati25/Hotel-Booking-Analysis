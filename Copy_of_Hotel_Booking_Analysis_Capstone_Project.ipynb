{
  "nbformat": 4,
  "nbformat_minor": 0,
  "metadata": {
    "kernelspec": {
      "display_name": "Python 3",
      "language": "python",
      "name": "python3"
    },
    "language_info": {
      "codemirror_mode": {
        "name": "ipython",
        "version": 3
      },
      "file_extension": ".py",
      "mimetype": "text/x-python",
      "name": "python",
      "nbconvert_exporter": "python",
      "pygments_lexer": "ipython3",
      "version": "3.6.6"
    },
    "colab": {
      "provenance": [],
      "collapsed_sections": [],
      "include_colab_link": true
    }
  },
  "cells": [
    {
      "cell_type": "markdown",
      "metadata": {
        "id": "view-in-github",
        "colab_type": "text"
      },
      "source": [
        "<a href=\"https://colab.research.google.com/github/prati25/Hotel-Booking-Analysis/blob/main/Copy_of_Hotel_Booking_Analysis_Capstone_Project.ipynb\" target=\"_parent\"><img src=\"https://colab.research.google.com/assets/colab-badge.svg\" alt=\"Open In Colab\"/></a>"
      ]
    },
    {
      "cell_type": "markdown",
      "metadata": {
        "id": "Y06xIdG26kRF"
      },
      "source": [
        "## <b> Have you ever wondered when the best time of year to book a hotel room is? Or the optimal length of stay in order to get the best daily rate? What if you wanted to predict whether or not a hotel was likely to receive a disproportionately high number of special requests? This hotel booking dataset can help you explore those questions!\n",
        "\n",
        "## <b>This data set contains booking information for a city hotel and a resort hotel, and includes information such as when the booking was made, length of stay, the number of adults, children, and/or babies, and the number of available parking spaces, among other things. All personally identifying information has been removed from the data. </b>\n",
        "\n",
        "## <b> Explore and analyze the data to discover important factors that govern the bookings. </b>"
      ]
    },
    {
      "cell_type": "markdown",
      "source": [
        "## **DATASET**\n",
        "\n",
        "The dataset contains information on bookings for two hotels in Portugal (a resort and a city hotel) scheduled to arrive in a period between July 1, 2016 and August 31, 2018.\n",
        "\n",
        "For both hotels, the same information was collected: 31 variables describing 40,060 observations for the resort and 79,330 observations for the city hotel. That is, the dataset contains information on 119,390 hotel reservations, including those that were canceled. This is real information, so all elements that could identify hotels or customers were removed.\n",
        "\n",
        "### Here there are some questions for analysis:\n",
        "\n",
        "1.What is the month with the most guest arrivals?\n",
        "\n",
        "2.How long do guests tend to stay at the hotel?\n",
        "\n",
        "3.How many reservations were made by repeated guests?\n",
        "\n",
        "4.What is the Average Daily Rate (ADR) throughout the year?\n",
        "\n",
        "5.How many reservations were cancelled out of total?\n",
        "\n",
        "6.What is the most frequent deposit type for cancelled reservations?\n",
        "\n",
        "7.Which countries do customers come from?\n",
        "\n",
        "8.What types of customers are most common in each hotel?\n",
        "\n",
        "9.What is their preferred meal plan?\n",
        "\n",
        "10.Which hotel is preferred by adults with children?\n",
        "\n",
        "11.What is the strongest market segment and distribution channel?"
      ],
      "metadata": {
        "id": "Ux42ERkF0uLE"
      }
    },
    {
      "cell_type": "markdown",
      "source": [
        "## **Suppressing warnings**"
      ],
      "metadata": {
        "id": "-JMBWphZ1bwX"
      }
    },
    {
      "cell_type": "code",
      "source": [
        "import warnings\n",
        "warnings.filterwarnings('ignore')             #suppressing warnings"
      ],
      "metadata": {
        "id": "GwLFrw8y1ojg"
      },
      "execution_count": null,
      "outputs": []
    },
    {
      "cell_type": "markdown",
      "source": [
        "## **Importing libraries**"
      ],
      "metadata": {
        "id": "oLkEoQxu11jE"
      }
    },
    {
      "cell_type": "code",
      "source": [
        "#importing libraries\n",
        "\n",
        "import numpy as np\n",
        "import pandas as pd\n",
        "import matplotlib.pyplot as plt\n",
        "import seaborn as sns                         \n",
        "%matplotlib inline "
      ],
      "metadata": {
        "id": "7JcAKj3m1_Je"
      },
      "execution_count": null,
      "outputs": []
    },
    {
      "cell_type": "markdown",
      "source": [
        "## **Reading and inspecting data**"
      ],
      "metadata": {
        "id": "mO7bdVzg5Y8d"
      }
    },
    {
      "cell_type": "markdown",
      "source": [
        "let's see Contents of Dataset :"
      ],
      "metadata": {
        "id": "3hvijlEAHsK3"
      }
    },
    {
      "cell_type": "code",
      "source": [
        "pk = pd.read_csv()"
      ],
      "metadata": {
        "id": "ljQQvxbjOyYA"
      },
      "execution_count": null,
      "outputs": []
    },
    {
      "cell_type": "code",
      "source": [
        "pk.head()"
      ],
      "metadata": {
        "id": "ckUYXosqdkJO"
      },
      "execution_count": null,
      "outputs": []
    },
    {
      "cell_type": "code",
      "source": [
        "print(pk.shape)\n"
      ],
      "metadata": {
        "id": "LMMq8zrSdrKj"
      },
      "execution_count": null,
      "outputs": []
    },
    {
      "cell_type": "markdown",
      "source": [
        "There are 119.390 observations and 32 columns in thr dataset\n",
        "\n",
        "Check data type :"
      ],
      "metadata": {
        "id": "CUSyEjSlkfv0"
      }
    },
    {
      "cell_type": "code",
      "source": [
        "pk.info()"
      ],
      "metadata": {
        "id": "kqZpeLuOdwM-"
      },
      "execution_count": null,
      "outputs": []
    },
    {
      "cell_type": "markdown",
      "source": [
        "As it can be seen, 'reservation_status_date' has an object data type, when it should has a date data type.\n",
        "\n",
        "Also, there are missing values in 'children', 'country', 'agent' and 'company' columns. This will be explored in the next section."
      ],
      "metadata": {
        "id": "WMe-iCRhman6"
      }
    },
    {
      "cell_type": "markdown",
      "source": [
        "## **Data cleaning**"
      ],
      "metadata": {
        "id": "wy0MP0aDnLEQ"
      }
    },
    {
      "cell_type": "markdown",
      "source": [
        "## Missing values"
      ],
      "metadata": {
        "id": "BvfBelYHnYwZ"
      }
    },
    {
      "cell_type": "markdown",
      "source": [
        "Let's see how many values are missing there :"
      ],
      "metadata": {
        "id": "C3Uqb_kDnvxV"
      }
    },
    {
      "cell_type": "code",
      "source": [
        "# Number of missing values according to column\n",
        "\n",
        "pk.isnull().sum().sort_values(ascending = False)"
      ],
      "metadata": {
        "id": "WEQOxu_un-dA"
      },
      "execution_count": null,
      "outputs": []
    },
    {
      "cell_type": "code",
      "source": [
        "# percentage of missing values according to column\n",
        "\n",
        "round(pk.isnull().sum().sort_values(ascending = False)* 100) / len(d,f),2)"
      ],
      "metadata": {
        "id": "rfxOzWaGom2y"
      },
      "execution_count": null,
      "outputs": []
    },
    {
      "cell_type": "markdown",
      "source": [
        "**'company'** and **'agent'** columns have a very high amount of missing values (94,31% and 13,69% respectively). one possible option could be to drop down that columns. However, the original article(that can be found here) \n",
        "\n",
        "States the following :"
      ],
      "metadata": {
        "id": "Bu-Dn4OYpgUl"
      }
    },
    {
      "cell_type": "markdown",
      "source": [
        "\n",
        "\n",
        "---\n",
        "In some Categorical variables like agent or company,\"NULL\" is presented as one of the categories. This should not be considered a missing value, but rather as \"not applicable\".\n",
        "For example: if a booking \"Agent\" is defined as \"NULL\" it means that the booking did not came from a travel agent. \n",
        "\n",
        "---\n"
      ],
      "metadata": {
        "id": "ftyc5HQFqug_"
      }
    },
    {
      "cell_type": "markdown",
      "source": [
        "Then, I'm going to replace null values in those columns with 0 (as they have float64 data types, since the personal information was removed).\n",
        "\n",
        "On the other hand, the column **'country'** has 0.41% missing values (488 rows affected). In its case, being a categorical variable, I have chosen the mode to replace the null values.\n",
        "\n",
        "The column **'children'** also has some missing values, but they do not even represent 0.01% of the dataset. Therefore, I have chosen to delete the affected rows (4 rows)."
      ],
      "metadata": {
        "id": "zjIZiuBGrJwi"
      }
    },
    {
      "cell_type": "code",
      "source": [
        "#Replacing NULL values in company and agent columns with 0\n",
        "\n",
        "values = {'company':0, 'agent':0}\n",
        "pk.fillna(value = values, inplace = True)\n",
        "\n",
        "\n",
        "#Replacing NULL values in country column with most frecuent value\n",
        "\n",
        "pk['country'].fillna(value = pk['country'].mode()[0],inplace = true)\n",
        "\n",
        "\n",
        "#Removing row affected by NULL values in children column\n",
        "\n",
        "pk.dropna(subset = ['children'], inplace = True)\n"
      ],
      "metadata": {
        "id": "QAeb65MkuqlH"
      },
      "execution_count": null,
      "outputs": []
    },
    {
      "cell_type": "code",
      "source": [
        "#Rechecking for NULL values in the data set\n",
        "\n",
        "pk.isnull().sum()"
      ],
      "metadata": {
        "id": "1B2QqKHDyDeA"
      },
      "execution_count": null,
      "outputs": []
    },
    {
      "cell_type": "markdown",
      "source": [
        "Now, there is no missing values in the dataset."
      ],
      "metadata": {
        "id": "vc0lPsYUybW4"
      }
    },
    {
      "cell_type": "markdown",
      "source": [
        "## **Inconsistent Data**"
      ],
      "metadata": {
        "id": "qxd2RjDGyj15"
      }
    },
    {
      "cell_type": "markdown",
      "source": [
        "In this part I'll look for inconsistent data in the dataset, that is, I'll check that the unique values of the categorical volumns are correct."
      ],
      "metadata": {
        "id": "kqBiI-bUyvl_"
      }
    },
    {
      "cell_type": "code",
      "source": [
        "#Categorical columns:\n",
        "\n",
        "categ_columns = ['hotel','is_canceled','meal','country','market_segment','distribution_channel','is_repeated_guest','reserved_room_type','assigned_room_type','deposit_type','customer_type','reservation_status']\n",
        "\n",
        "\n",
        "#Unique values in each categorical column\n",
        "\n",
        "print(f\"UNIQUE VALUES BY CATEGORICAL COLUMNS\\n\".upper())\n",
        "for categ_columns in categ_columns:\n",
        "  unique_values = pk[categ_columns].unique()\n",
        "  print(f\"\\n{categ_columns}: \\n{unique_values}\\n\")\n",
        "  print('-' * 70)"
      ],
      "metadata": {
        "id": "fGYga7PLzejE"
      },
      "execution_count": null,
      "outputs": []
    },
    {
      "cell_type": "markdown",
      "source": [
        "In the column **'meal'**  there are five possible results:['BB' 'FB' 'HB' 'SC' 'Undifined']\n",
        "\n",
        "The category **'undifined'** actually corresponds to **'sc'** (Self catering i.e. meal is not included),as definrd in the original article. Therefore, I'll replace it's value with **'sc'**.\n"
      ],
      "metadata": {
        "id": "_ipHNsKh35rR"
      }
    },
    {
      "cell_type": "code",
      "source": [
        "#Replacing 'Undifined' meal with 'SC'\n",
        "\n",
        "pk['meal'].replace(to_replace = 'undifined', value = 'SC', inplace = True)"
      ],
      "metadata": {
        "id": "NJBpfv1o87ou"
      },
      "execution_count": null,
      "outputs": []
    },
    {
      "cell_type": "code",
      "source": [
        "#Rechecking unique values in meal column\n",
        "\n",
        "pk['meal'].unique()"
      ],
      "metadata": {
        "id": "rZf5Q7Oh-lnl"
      },
      "execution_count": null,
      "outputs": []
    },
    {
      "cell_type": "markdown",
      "source": [
        "There is no more inconsistent data in Dataset."
      ],
      "metadata": {
        "id": "GRhxHcAT_AoK"
      }
    },
    {
      "cell_type": "markdown",
      "source": [
        "## **Invalid Data**"
      ],
      "metadata": {
        "id": "xQeiOFqR_SfS"
      }
    },
    {
      "cell_type": "markdown",
      "source": [
        "Now, Verify there are any non-logical values in the dataset :"
      ],
      "metadata": {
        "id": "c-nmrtet_YUx"
      }
    },
    {
      "cell_type": "code",
      "source": [
        "pk.describe()"
      ],
      "metadata": {
        "id": "Fpef8AwnAAR9"
      },
      "execution_count": null,
      "outputs": []
    },
    {
      "cell_type": "markdown",
      "source": [
        "At first glance, it seems that there are outliers in the dataset. For example, we can see that the column 'previous_cancellations' has a maximum value of 26 cancellations, which would imply that some customer made 26 cancellations, which is unlikely.\n",
        "\n",
        "On the other hand, the column 'adults' has a maximum of 55 and a minimum of 0 people. The minimum is especially interesting because it would assume that there are hotel reservations for 0 adults, which is not possible since there must be a minimum of 1 adult per reservation (obviously children cannot book hotel rooms). Therefore, I will eliminate rows where the number of adults equals 0."
      ],
      "metadata": {
        "id": "TgBQPzh1AEf6"
      }
    },
    {
      "cell_type": "code",
      "source": [
        "#Dropping rows with 0 adults :\n",
        "\n",
        "pk.drop(pk[pk['adults']== 0].index,inplace = True)"
      ],
      "metadata": {
        "id": "KFP_b1zMBEF5"
      },
      "execution_count": null,
      "outputs": []
    },
    {
      "cell_type": "code",
      "source": [
        "#Verification of dropping rows with 0 adults :\n",
        "\n",
        "len(pk[pk['adults']==0])"
      ],
      "metadata": {
        "id": "Io23zcpYBbsk"
      },
      "execution_count": null,
      "outputs": []
    },
    {
      "cell_type": "markdown",
      "source": [
        "Rows where 'adults' was equal to 0 have been eliminated. I'll now check the outliers."
      ],
      "metadata": {
        "id": "IUod1iKQBw_7"
      }
    }
  ]
}