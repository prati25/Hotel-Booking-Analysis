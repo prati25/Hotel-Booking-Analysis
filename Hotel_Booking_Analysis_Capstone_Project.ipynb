{
  "nbformat": 4,
  "nbformat_minor": 0,
  "metadata": {
    "kernelspec": {
      "display_name": "Python 3",
      "language": "python",
      "name": "python3"
    },
    "language_info": {
      "codemirror_mode": {
        "name": "ipython",
        "version": 3
      },
      "file_extension": ".py",
      "mimetype": "text/x-python",
      "name": "python",
      "nbconvert_exporter": "python",
      "pygments_lexer": "ipython3",
      "version": "3.6.6"
    },
    "colab": {
      "provenance": [],
      "include_colab_link": true
    }
  },
  "cells": [
    {
      "cell_type": "markdown",
      "metadata": {
        "id": "view-in-github",
        "colab_type": "text"
      },
      "source": [
        "<a href=\"https://colab.research.google.com/github/prati25/Hotel-Booking-Analysis/blob/main/Hotel_Booking_Analysis_Capstone_Project.ipynb\" target=\"_parent\"><img src=\"https://colab.research.google.com/assets/colab-badge.svg\" alt=\"Open In Colab\"/></a>"
      ]
    },
    {
      "cell_type": "markdown",
      "metadata": {
        "id": "Y06xIdG26kRF"
      },
      "source": [
        "## <b> Have you ever wondered when the best time of year to book a hotel room is? Or the optimal length of stay in order to get the best daily rate? What if you wanted to predict whether or not a hotel was likely to receive a disproportionately high number of special requests? This hotel booking dataset can help you explore those questions!\n",
        "\n",
        "## <b>This data set contains booking information for a city hotel and a resort hotel, and includes information such as when the booking was made, length of stay, the number of adults, children, and/or babies, and the number of available parking spaces, among other things. All personally identifying information has been removed from the data. </b>\n",
        "\n",
        "## <b> Explore and analyze the data to discover important factors that govern the bookings. </b>"
      ]
    },
    {
      "cell_type": "markdown",
      "source": [
        "## **DATASET**\n",
        "\n",
        "The dataset contains information on bookings for two hotels in Portugal (a resort and a city hotel) scheduled to arrive in a period between July 1, 2016 and August 31, 2018.\n",
        "\n",
        "For both hotels, the same information was collected: 31 variables describing 40,060 observations for the resort and 79,330 observations for the city hotel. That is, the dataset contains information on 119,390 hotel reservations, including those that were canceled. This is real information, so all elements that could identify hotels or customers were removed.\n",
        "\n",
        "### Here there are some questions for analysis:\n",
        "\n",
        "1.What is the month with the most guest arrivals?\n",
        "\n",
        "2.How long do guests tend to stay at the hotel?\n",
        "\n",
        "3.How many reservations were made by repeated guests?\n",
        "\n",
        "4.What is the Average Daily Rate (ADR) throughout the year?\n",
        "\n",
        "5.How many reservations were cancelled out of total?\n",
        "\n",
        "6.What is the most frequent deposit type for cancelled reservations?\n",
        "\n",
        "7.Which countries do customers come from?\n",
        "\n",
        "8.What types of customers are most common in each hotel?\n",
        "\n",
        "9.What is their preferred meal plan?\n",
        "\n",
        "10.Which hotel is preferred by adults with children?\n",
        "\n",
        "11.What is the strongest market segment and distribution channel?"
      ],
      "metadata": {
        "id": "Ux42ERkF0uLE"
      }
    },
    {
      "cell_type": "markdown",
      "source": [
        "## **Suppressing warnings**"
      ],
      "metadata": {
        "id": "-JMBWphZ1bwX"
      }
    },
    {
      "cell_type": "code",
      "source": [
        "import warnings\n",
        "warnings.filterwarnings('ignore')             #suppressing warnings"
      ],
      "metadata": {
        "id": "GwLFrw8y1ojg"
      },
      "execution_count": 1,
      "outputs": []
    },
    {
      "cell_type": "markdown",
      "source": [
        "## **Importing libraries**"
      ],
      "metadata": {
        "id": "oLkEoQxu11jE"
      }
    },
    {
      "cell_type": "code",
      "source": [
        "#importing libraries\n",
        "import numpy as np\n",
        "import pandas as pd\n",
        "import matplotlib.pyplot as plt\n",
        "import seaborn as sns                         \n",
        "%matplotlib inline "
      ],
      "metadata": {
        "id": "7JcAKj3m1_Je"
      },
      "execution_count": 2,
      "outputs": []
    }
  ]
}